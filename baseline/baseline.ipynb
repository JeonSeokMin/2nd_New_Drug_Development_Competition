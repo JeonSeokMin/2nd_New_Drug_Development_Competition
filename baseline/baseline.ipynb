{
 "cells": [
  {
   "cell_type": "code",
   "execution_count": 2,
   "metadata": {},
   "outputs": [],
   "source": [
    "import pandas as pd\n",
    "import numpy as np\n",
    "import os\n",
    "import random\n",
    "\n",
    "from rdkit import Chem\n",
    "from rdkit.Chem import AllChem\n",
    "from sklearn.model_selection import train_test_split\n",
    "from sklearn.ensemble import RandomForestRegressor\n",
    "from sklearn.metrics import mean_squared_error"
   ]
  },
  {
   "cell_type": "code",
   "execution_count": 3,
   "metadata": {},
   "outputs": [],
   "source": [
    "CFG = {\n",
    "    'NBITS':2048,\n",
    "    'SEED':42,\n",
    "}"
   ]
  },
  {
   "cell_type": "code",
   "execution_count": 4,
   "metadata": {},
   "outputs": [],
   "source": [
    "def seed_everything(seed):\n",
    "    random.seed(seed)\n",
    "    os.environ['PYTHONHASHSEED'] = str(seed)\n",
    "    np.random.seed(seed)\n",
    "seed_everything(CFG['SEED']) # Seed 고정"
   ]
  },
  {
   "cell_type": "code",
   "execution_count": 5,
   "metadata": {},
   "outputs": [],
   "source": [
    "# SMILES 데이터를 분자 지문으로 변환\n",
    "def smiles_to_fingerprint(smiles):\n",
    "    mol = Chem.MolFromSmiles(smiles)\n",
    "    if mol is not None:\n",
    "        fp = AllChem.GetMorganFingerprintAsBitVect(mol, 2, nBits=CFG['NBITS'])\n",
    "        return np.array(fp)\n",
    "    else:\n",
    "        return np.zeros((CFG['NBITS'],))"
   ]
  },
  {
   "cell_type": "code",
   "execution_count": 6,
   "metadata": {},
   "outputs": [
    {
     "name": "stdout",
     "output_type": "stream",
     "text": [
      "/home/wjstjrals417/Dacon/New_drug_development/Seokmin/src/baseline\n"
     ]
    }
   ],
   "source": [
    "import os\n",
    "\n",
    "print(os.getcwd())"
   ]
  },
  {
   "cell_type": "code",
   "execution_count": 7,
   "metadata": {},
   "outputs": [],
   "source": [
    "from os.path import join\n",
    "train_path = join('..', '..', '..', 'data', 'total_data', 'train.csv')"
   ]
  },
  {
   "cell_type": "code",
   "execution_count": 8,
   "metadata": {},
   "outputs": [
    {
     "name": "stderr",
     "output_type": "stream",
     "text": [
      "/tmp/ipykernel_505250/1863706388.py:6: SettingWithCopyWarning: \n",
      "A value is trying to be set on a copy of a slice from a DataFrame.\n",
      "Try using .loc[row_indexer,col_indexer] = value instead\n",
      "\n",
      "See the caveats in the documentation: https://pandas.pydata.org/pandas-docs/stable/user_guide/indexing.html#returning-a-view-versus-a-copy\n",
      "  train['Fingerprint'] = train['Smiles'].apply(smiles_to_fingerprint)\n"
     ]
    }
   ],
   "source": [
    "# 학습 ChEMBL 데이터 로드\n",
    "chembl_data = pd.read_csv(train_path)  # 예시 파일 이름\n",
    "chembl_data.head()\n",
    "\n",
    "train = chembl_data[['Smiles', 'pIC50']]\n",
    "train['Fingerprint'] = train['Smiles'].apply(smiles_to_fingerprint)\n",
    "\n",
    "train_x = np.stack(train['Fingerprint'].values)\n",
    "train_y = train['pIC50'].values\n",
    "\n",
    "# 학습 및 검증 데이터 분리\n",
    "train_x, val_x, train_y, val_y = train_test_split(train_x, train_y, test_size=0.3, random_state=42)"
   ]
  },
  {
   "cell_type": "code",
   "execution_count": 9,
   "metadata": {},
   "outputs": [
    {
     "data": {
      "text/html": [
       "<style>#sk-container-id-1 {color: black;}#sk-container-id-1 pre{padding: 0;}#sk-container-id-1 div.sk-toggleable {background-color: white;}#sk-container-id-1 label.sk-toggleable__label {cursor: pointer;display: block;width: 100%;margin-bottom: 0;padding: 0.3em;box-sizing: border-box;text-align: center;}#sk-container-id-1 label.sk-toggleable__label-arrow:before {content: \"▸\";float: left;margin-right: 0.25em;color: #696969;}#sk-container-id-1 label.sk-toggleable__label-arrow:hover:before {color: black;}#sk-container-id-1 div.sk-estimator:hover label.sk-toggleable__label-arrow:before {color: black;}#sk-container-id-1 div.sk-toggleable__content {max-height: 0;max-width: 0;overflow: hidden;text-align: left;background-color: #f0f8ff;}#sk-container-id-1 div.sk-toggleable__content pre {margin: 0.2em;color: black;border-radius: 0.25em;background-color: #f0f8ff;}#sk-container-id-1 input.sk-toggleable__control:checked~div.sk-toggleable__content {max-height: 200px;max-width: 100%;overflow: auto;}#sk-container-id-1 input.sk-toggleable__control:checked~label.sk-toggleable__label-arrow:before {content: \"▾\";}#sk-container-id-1 div.sk-estimator input.sk-toggleable__control:checked~label.sk-toggleable__label {background-color: #d4ebff;}#sk-container-id-1 div.sk-label input.sk-toggleable__control:checked~label.sk-toggleable__label {background-color: #d4ebff;}#sk-container-id-1 input.sk-hidden--visually {border: 0;clip: rect(1px 1px 1px 1px);clip: rect(1px, 1px, 1px, 1px);height: 1px;margin: -1px;overflow: hidden;padding: 0;position: absolute;width: 1px;}#sk-container-id-1 div.sk-estimator {font-family: monospace;background-color: #f0f8ff;border: 1px dotted black;border-radius: 0.25em;box-sizing: border-box;margin-bottom: 0.5em;}#sk-container-id-1 div.sk-estimator:hover {background-color: #d4ebff;}#sk-container-id-1 div.sk-parallel-item::after {content: \"\";width: 100%;border-bottom: 1px solid gray;flex-grow: 1;}#sk-container-id-1 div.sk-label:hover label.sk-toggleable__label {background-color: #d4ebff;}#sk-container-id-1 div.sk-serial::before {content: \"\";position: absolute;border-left: 1px solid gray;box-sizing: border-box;top: 0;bottom: 0;left: 50%;z-index: 0;}#sk-container-id-1 div.sk-serial {display: flex;flex-direction: column;align-items: center;background-color: white;padding-right: 0.2em;padding-left: 0.2em;position: relative;}#sk-container-id-1 div.sk-item {position: relative;z-index: 1;}#sk-container-id-1 div.sk-parallel {display: flex;align-items: stretch;justify-content: center;background-color: white;position: relative;}#sk-container-id-1 div.sk-item::before, #sk-container-id-1 div.sk-parallel-item::before {content: \"\";position: absolute;border-left: 1px solid gray;box-sizing: border-box;top: 0;bottom: 0;left: 50%;z-index: -1;}#sk-container-id-1 div.sk-parallel-item {display: flex;flex-direction: column;z-index: 1;position: relative;background-color: white;}#sk-container-id-1 div.sk-parallel-item:first-child::after {align-self: flex-end;width: 50%;}#sk-container-id-1 div.sk-parallel-item:last-child::after {align-self: flex-start;width: 50%;}#sk-container-id-1 div.sk-parallel-item:only-child::after {width: 0;}#sk-container-id-1 div.sk-dashed-wrapped {border: 1px dashed gray;margin: 0 0.4em 0.5em 0.4em;box-sizing: border-box;padding-bottom: 0.4em;background-color: white;}#sk-container-id-1 div.sk-label label {font-family: monospace;font-weight: bold;display: inline-block;line-height: 1.2em;}#sk-container-id-1 div.sk-label-container {text-align: center;}#sk-container-id-1 div.sk-container {/* jupyter's `normalize.less` sets `[hidden] { display: none; }` but bootstrap.min.css set `[hidden] { display: none !important; }` so we also need the `!important` here to be able to override the default hidden behavior on the sphinx rendered scikit-learn.org. See: https://github.com/scikit-learn/scikit-learn/issues/21755 */display: inline-block !important;position: relative;}#sk-container-id-1 div.sk-text-repr-fallback {display: none;}</style><div id=\"sk-container-id-1\" class=\"sk-top-container\"><div class=\"sk-text-repr-fallback\"><pre>RandomForestRegressor(random_state=42)</pre><b>In a Jupyter environment, please rerun this cell to show the HTML representation or trust the notebook. <br />On GitHub, the HTML representation is unable to render, please try loading this page with nbviewer.org.</b></div><div class=\"sk-container\" hidden><div class=\"sk-item\"><div class=\"sk-estimator sk-toggleable\"><input class=\"sk-toggleable__control sk-hidden--visually\" id=\"sk-estimator-id-1\" type=\"checkbox\" checked><label for=\"sk-estimator-id-1\" class=\"sk-toggleable__label sk-toggleable__label-arrow\">RandomForestRegressor</label><div class=\"sk-toggleable__content\"><pre>RandomForestRegressor(random_state=42)</pre></div></div></div></div></div>"
      ],
      "text/plain": [
       "RandomForestRegressor(random_state=42)"
      ]
     },
     "execution_count": 9,
     "metadata": {},
     "output_type": "execute_result"
    }
   ],
   "source": [
    "# 랜덤 포레스트 모델 학습\n",
    "model = RandomForestRegressor(random_state=CFG['SEED'])\n",
    "model.fit(train_x, train_y)"
   ]
  },
  {
   "cell_type": "code",
   "execution_count": 10,
   "metadata": {},
   "outputs": [],
   "source": [
    "def pIC50_to_IC50(pic50_values):\n",
    "    \"\"\"Convert pIC50 values to IC50 (nM).\"\"\"\n",
    "    return 10 ** (9 - pic50_values)\n",
    "\n",
    "# Validation 데이터로부터의 학습 모델 평가\n",
    "val_y_pred = model.predict(val_x)\n",
    "mse = mean_squared_error(pIC50_to_IC50(val_y), pIC50_to_IC50(val_y_pred))\n",
    "rmse = np.sqrt(mse)"
   ]
  },
  {
   "cell_type": "code",
   "execution_count": 11,
   "metadata": {},
   "outputs": [
    {
     "data": {
      "text/plain": [
       "4707069.1709900815"
      ]
     },
     "execution_count": 11,
     "metadata": {},
     "output_type": "execute_result"
    }
   ],
   "source": [
    "mse"
   ]
  },
  {
   "cell_type": "code",
   "execution_count": 12,
   "metadata": {},
   "outputs": [
    {
     "data": {
      "text/plain": [
       "2169.5781089857264"
      ]
     },
     "execution_count": 12,
     "metadata": {},
     "output_type": "execute_result"
    }
   ],
   "source": [
    "rmse"
   ]
  },
  {
   "cell_type": "code",
   "execution_count": 13,
   "metadata": {},
   "outputs": [
    {
     "name": "stdout",
     "output_type": "stream",
     "text": [
      "RMSE: 2169.5781089857264\n"
     ]
    }
   ],
   "source": [
    "# Validation 데이터로부터의 학습 모델 평가\n",
    "val_y_pred = model.predict(val_x)\n",
    "mse = mean_squared_error(pIC50_to_IC50(val_y), pIC50_to_IC50(val_y_pred))\n",
    "rmse = np.sqrt(mse)\n",
    "\n",
    "print(f'RMSE: {rmse}')"
   ]
  },
  {
   "cell_type": "code",
   "execution_count": 15,
   "metadata": {},
   "outputs": [],
   "source": [
    "test_path = join('..', '..', 'data', 'total_data', 'test.csv')\n",
    "submission_path = join('..', '..', 'data', 'total_data', 'sample_submission.csv')"
   ]
  },
  {
   "cell_type": "code",
   "execution_count": 16,
   "metadata": {},
   "outputs": [
    {
     "name": "stderr",
     "output_type": "stream",
     "text": [
      "[13:58:09] DEPRECATION WARNING: please use MorganGenerator\n",
      "[13:58:09] DEPRECATION WARNING: please use MorganGenerator\n",
      "[13:58:09] DEPRECATION WARNING: please use MorganGenerator\n",
      "[13:58:09] DEPRECATION WARNING: please use MorganGenerator\n",
      "[13:58:09] DEPRECATION WARNING: please use MorganGenerator\n",
      "[13:58:09] DEPRECATION WARNING: please use MorganGenerator\n",
      "[13:58:09] DEPRECATION WARNING: please use MorganGenerator\n",
      "[13:58:09] DEPRECATION WARNING: please use MorganGenerator\n",
      "[13:58:09] DEPRECATION WARNING: please use MorganGenerator\n",
      "[13:58:09] DEPRECATION WARNING: please use MorganGenerator\n",
      "[13:58:09] DEPRECATION WARNING: please use MorganGenerator\n",
      "[13:58:09] DEPRECATION WARNING: please use MorganGenerator\n",
      "[13:58:09] DEPRECATION WARNING: please use MorganGenerator\n",
      "[13:58:09] DEPRECATION WARNING: please use MorganGenerator\n",
      "[13:58:09] DEPRECATION WARNING: please use MorganGenerator\n",
      "[13:58:09] DEPRECATION WARNING: please use MorganGenerator\n",
      "[13:58:09] DEPRECATION WARNING: please use MorganGenerator\n",
      "[13:58:09] DEPRECATION WARNING: please use MorganGenerator\n",
      "[13:58:09] DEPRECATION WARNING: please use MorganGenerator\n",
      "[13:58:09] DEPRECATION WARNING: please use MorganGenerator\n",
      "[13:58:09] DEPRECATION WARNING: please use MorganGenerator\n",
      "[13:58:09] DEPRECATION WARNING: please use MorganGenerator\n",
      "[13:58:09] DEPRECATION WARNING: please use MorganGenerator\n",
      "[13:58:09] DEPRECATION WARNING: please use MorganGenerator\n",
      "[13:58:09] DEPRECATION WARNING: please use MorganGenerator\n",
      "[13:58:09] DEPRECATION WARNING: please use MorganGenerator\n",
      "[13:58:09] DEPRECATION WARNING: please use MorganGenerator\n",
      "[13:58:09] DEPRECATION WARNING: please use MorganGenerator\n",
      "[13:58:09] DEPRECATION WARNING: please use MorganGenerator\n",
      "[13:58:09] DEPRECATION WARNING: please use MorganGenerator\n",
      "[13:58:10] DEPRECATION WARNING: please use MorganGenerator\n",
      "[13:58:10] DEPRECATION WARNING: please use MorganGenerator\n",
      "[13:58:10] DEPRECATION WARNING: please use MorganGenerator\n",
      "[13:58:10] DEPRECATION WARNING: please use MorganGenerator\n",
      "[13:58:10] DEPRECATION WARNING: please use MorganGenerator\n",
      "[13:58:10] DEPRECATION WARNING: please use MorganGenerator\n",
      "[13:58:10] DEPRECATION WARNING: please use MorganGenerator\n",
      "[13:58:10] DEPRECATION WARNING: please use MorganGenerator\n",
      "[13:58:10] DEPRECATION WARNING: please use MorganGenerator\n",
      "[13:58:10] DEPRECATION WARNING: please use MorganGenerator\n",
      "[13:58:10] DEPRECATION WARNING: please use MorganGenerator\n",
      "[13:58:10] DEPRECATION WARNING: please use MorganGenerator\n",
      "[13:58:10] DEPRECATION WARNING: please use MorganGenerator\n",
      "[13:58:10] DEPRECATION WARNING: please use MorganGenerator\n",
      "[13:58:10] DEPRECATION WARNING: please use MorganGenerator\n",
      "[13:58:10] DEPRECATION WARNING: please use MorganGenerator\n",
      "[13:58:10] DEPRECATION WARNING: please use MorganGenerator\n",
      "[13:58:10] DEPRECATION WARNING: please use MorganGenerator\n",
      "[13:58:10] DEPRECATION WARNING: please use MorganGenerator\n",
      "[13:58:10] DEPRECATION WARNING: please use MorganGenerator\n",
      "[13:58:10] DEPRECATION WARNING: please use MorganGenerator\n",
      "[13:58:10] DEPRECATION WARNING: please use MorganGenerator\n",
      "[13:58:10] DEPRECATION WARNING: please use MorganGenerator\n",
      "[13:58:10] DEPRECATION WARNING: please use MorganGenerator\n",
      "[13:58:10] DEPRECATION WARNING: please use MorganGenerator\n",
      "[13:58:10] DEPRECATION WARNING: please use MorganGenerator\n",
      "[13:58:10] DEPRECATION WARNING: please use MorganGenerator\n",
      "[13:58:10] DEPRECATION WARNING: please use MorganGenerator\n",
      "[13:58:10] DEPRECATION WARNING: please use MorganGenerator\n",
      "[13:58:10] DEPRECATION WARNING: please use MorganGenerator\n",
      "[13:58:10] DEPRECATION WARNING: please use MorganGenerator\n",
      "[13:58:10] DEPRECATION WARNING: please use MorganGenerator\n",
      "[13:58:10] DEPRECATION WARNING: please use MorganGenerator\n",
      "[13:58:10] DEPRECATION WARNING: please use MorganGenerator\n",
      "[13:58:10] DEPRECATION WARNING: please use MorganGenerator\n",
      "[13:58:10] DEPRECATION WARNING: please use MorganGenerator\n",
      "[13:58:10] DEPRECATION WARNING: please use MorganGenerator\n",
      "[13:58:10] DEPRECATION WARNING: please use MorganGenerator\n",
      "[13:58:10] DEPRECATION WARNING: please use MorganGenerator\n",
      "[13:58:10] DEPRECATION WARNING: please use MorganGenerator\n",
      "[13:58:10] DEPRECATION WARNING: please use MorganGenerator\n",
      "[13:58:10] DEPRECATION WARNING: please use MorganGenerator\n",
      "[13:58:10] DEPRECATION WARNING: please use MorganGenerator\n",
      "[13:58:10] DEPRECATION WARNING: please use MorganGenerator\n",
      "[13:58:10] DEPRECATION WARNING: please use MorganGenerator\n",
      "[13:58:10] DEPRECATION WARNING: please use MorganGenerator\n",
      "[13:58:10] DEPRECATION WARNING: please use MorganGenerator\n",
      "[13:58:10] DEPRECATION WARNING: please use MorganGenerator\n",
      "[13:58:10] DEPRECATION WARNING: please use MorganGenerator\n",
      "[13:58:10] DEPRECATION WARNING: please use MorganGenerator\n",
      "[13:58:10] DEPRECATION WARNING: please use MorganGenerator\n",
      "[13:58:10] DEPRECATION WARNING: please use MorganGenerator\n",
      "[13:58:10] DEPRECATION WARNING: please use MorganGenerator\n",
      "[13:58:10] DEPRECATION WARNING: please use MorganGenerator\n",
      "[13:58:10] DEPRECATION WARNING: please use MorganGenerator\n",
      "[13:58:10] DEPRECATION WARNING: please use MorganGenerator\n",
      "[13:58:10] DEPRECATION WARNING: please use MorganGenerator\n",
      "[13:58:10] DEPRECATION WARNING: please use MorganGenerator\n",
      "[13:58:10] DEPRECATION WARNING: please use MorganGenerator\n",
      "[13:58:10] DEPRECATION WARNING: please use MorganGenerator\n",
      "[13:58:10] DEPRECATION WARNING: please use MorganGenerator\n",
      "[13:58:10] DEPRECATION WARNING: please use MorganGenerator\n",
      "[13:58:10] DEPRECATION WARNING: please use MorganGenerator\n",
      "[13:58:10] DEPRECATION WARNING: please use MorganGenerator\n",
      "[13:58:10] DEPRECATION WARNING: please use MorganGenerator\n",
      "[13:58:10] DEPRECATION WARNING: please use MorganGenerator\n",
      "[13:58:10] DEPRECATION WARNING: please use MorganGenerator\n",
      "[13:58:10] DEPRECATION WARNING: please use MorganGenerator\n",
      "[13:58:10] DEPRECATION WARNING: please use MorganGenerator\n",
      "[13:58:10] DEPRECATION WARNING: please use MorganGenerator\n",
      "[13:58:10] DEPRECATION WARNING: please use MorganGenerator\n",
      "[13:58:10] DEPRECATION WARNING: please use MorganGenerator\n",
      "[13:58:10] DEPRECATION WARNING: please use MorganGenerator\n",
      "[13:58:10] DEPRECATION WARNING: please use MorganGenerator\n",
      "[13:58:10] DEPRECATION WARNING: please use MorganGenerator\n",
      "[13:58:10] DEPRECATION WARNING: please use MorganGenerator\n",
      "[13:58:10] DEPRECATION WARNING: please use MorganGenerator\n",
      "[13:58:10] DEPRECATION WARNING: please use MorganGenerator\n",
      "[13:58:10] DEPRECATION WARNING: please use MorganGenerator\n",
      "[13:58:10] DEPRECATION WARNING: please use MorganGenerator\n",
      "[13:58:10] DEPRECATION WARNING: please use MorganGenerator\n",
      "[13:58:10] DEPRECATION WARNING: please use MorganGenerator\n",
      "[13:58:10] DEPRECATION WARNING: please use MorganGenerator\n"
     ]
    }
   ],
   "source": [
    "test = pd.read_csv(test_path)\n",
    "test['Fingerprint'] = test['Smiles'].apply(smiles_to_fingerprint)\n",
    "\n",
    "test_x = np.stack(test['Fingerprint'].values)\n",
    "\n",
    "test_y_pred = model.predict(test_x)\n",
    "\n",
    "submit = pd.read_csv(submission_path)\n",
    "submit['IC50_nM'] = pIC50_to_IC50(test_y_pred)\n",
    "submit.head()\n",
    "\n",
    "submit.to_csv('./baseline_submit.csv', index=False)"
   ]
  },
  {
   "cell_type": "markdown",
   "metadata": {},
   "source": [
    "### 평가 코드"
   ]
  },
  {
   "cell_type": "code",
   "execution_count": 14,
   "metadata": {},
   "outputs": [
    {
     "name": "stdout",
     "output_type": "stream",
     "text": [
      "Normalized RMSE: 0.0371\n",
      "Correct Ratio: 1.0000\n",
      "Final Score: 0.9815\n"
     ]
    }
   ],
   "source": [
    "import numpy as np\n",
    "\n",
    "def calculate_score(y_true, y_pred):\n",
    "    # IC50(nM) to pIC50 변환\n",
    "    def to_pIC50(IC50):\n",
    "        return -np.log10(IC50 * 1e-9)\n",
    "    \n",
    "    y_true_pIC50 = to_pIC50(y_true)\n",
    "    y_pred_pIC50 = to_pIC50(y_pred)\n",
    "    \n",
    "    # Normalized RMSE 계산\n",
    "    rmse = np.sqrt(np.mean((y_true - y_pred)**2))\n",
    "    normalized_rmse = rmse / (np.max(y_true) - np.min(y_true))\n",
    "    \n",
    "    # Correct Ratio 계산\n",
    "    absolute_errors_pIC50 = np.abs(y_true_pIC50 - y_pred_pIC50)\n",
    "    correct_ratio = np.mean(absolute_errors_pIC50 <= 0.5)\n",
    "    \n",
    "    # 최종 점수 계산\n",
    "    A = normalized_rmse\n",
    "    B = correct_ratio\n",
    "    score = 0.5 * (1 - min(A, 1)) + 0.5 * B\n",
    "    \n",
    "    return score, normalized_rmse, correct_ratio\n",
    "\n",
    "# 사용 예시\n",
    "y_true = np.array([100, 200, 300, 400, 500])  # 실제 IC50(nM) 값\n",
    "y_pred = np.array([110, 190, 280, 420, 510])  # 예측된 IC50(nM) 값\n",
    "\n",
    "final_score, normalized_rmse, correct_ratio = calculate_score(y_true, y_pred)\n",
    "\n",
    "print(f\"Normalized RMSE: {normalized_rmse:.4f}\")\n",
    "print(f\"Correct Ratio: {correct_ratio:.4f}\")\n",
    "print(f\"Final Score: {final_score:.4f}\")"
   ]
  },
  {
   "cell_type": "code",
   "execution_count": 17,
   "metadata": {},
   "outputs": [],
   "source": [
    "final_score, normalized_rmse, correct_ratio = calculate_score(val_y, val_y_pred)"
   ]
  },
  {
   "cell_type": "code",
   "execution_count": 18,
   "metadata": {},
   "outputs": [
    {
     "name": "stdout",
     "output_type": "stream",
     "text": [
      "Normalized RMSE: 0.1087\n",
      "Correct Ratio: 1.0000\n",
      "Final Score: 0.9457\n"
     ]
    }
   ],
   "source": [
    "print(f\"Normalized RMSE: {normalized_rmse:.4f}\")\n",
    "print(f\"Correct Ratio: {correct_ratio:.4f}\")\n",
    "print(f\"Final Score: {final_score:.4f}\")"
   ]
  },
  {
   "cell_type": "code",
   "execution_count": null,
   "metadata": {},
   "outputs": [],
   "source": []
  }
 ],
 "metadata": {
  "kernelspec": {
   "display_name": "Python 3",
   "language": "python",
   "name": "python3"
  },
  "language_info": {
   "codemirror_mode": {
    "name": "ipython",
    "version": 3
   },
   "file_extension": ".py",
   "mimetype": "text/x-python",
   "name": "python",
   "nbconvert_exporter": "python",
   "pygments_lexer": "ipython3",
   "version": "3.8.19"
  }
 },
 "nbformat": 4,
 "nbformat_minor": 2
}
