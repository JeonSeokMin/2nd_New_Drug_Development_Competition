{
 "cells": [
  {
   "cell_type": "code",
   "execution_count": 31,
   "metadata": {},
   "outputs": [
    {
     "name": "stdout",
     "output_type": "stream",
     "text": [
      "/home/wjstjrals417/Dacon/New_drug_development/Seokmin/src/Deepchem\n"
     ]
    }
   ],
   "source": [
    "import os\n",
    "\n",
    "print(os.getcwd())"
   ]
  },
  {
   "cell_type": "code",
   "execution_count": 32,
   "metadata": {},
   "outputs": [],
   "source": [
    "from os.path import join\n",
    "train_path = join('..', '..', '..', 'data', 'total_data', 'train.csv')\n",
    "test_path = join('..', '..', '..', 'data', 'total_data', 'test.csv')\n",
    "submission_path = join('..', '..', '..', 'data', 'total_data', 'sample_submission.csv')"
   ]
  },
  {
   "cell_type": "code",
   "execution_count": 33,
   "metadata": {},
   "outputs": [],
   "source": [
    "import pandas as pd\n",
    "\n",
    "train_data = pd.read_csv(train_path)\n",
    "test_data = pd.read_csv(test_path)\n",
    "submission_data = pd.read_csv(submission_path)"
   ]
  },
  {
   "cell_type": "code",
   "execution_count": 34,
   "metadata": {},
   "outputs": [
    {
     "data": {
      "text/plain": [
       "Molecule ChEMBL ID    0\n",
       "Standard Type         0\n",
       "Standard Relation     0\n",
       "Standard Value        0\n",
       "Standard Units        0\n",
       "pChEMBL Value         0\n",
       "Assay ChEMBL ID       0\n",
       "Target ChEMBL ID      0\n",
       "Target Name           0\n",
       "Target Organism       0\n",
       "Target Type           0\n",
       "Document ChEMBL ID    0\n",
       "IC50_nM               0\n",
       "pIC50                 0\n",
       "Smiles                0\n",
       "dtype: int64"
      ]
     },
     "execution_count": 34,
     "metadata": {},
     "output_type": "execute_result"
    }
   ],
   "source": [
    "train_data.isnull().sum()"
   ]
  },
  {
   "cell_type": "code",
   "execution_count": 35,
   "metadata": {},
   "outputs": [
    {
     "data": {
      "text/plain": [
       "0       False\n",
       "1       False\n",
       "2       False\n",
       "3       False\n",
       "4       False\n",
       "        ...  \n",
       "1947    False\n",
       "1948    False\n",
       "1949    False\n",
       "1950    False\n",
       "1951    False\n",
       "Length: 1952, dtype: bool"
      ]
     },
     "execution_count": 35,
     "metadata": {},
     "output_type": "execute_result"
    }
   ],
   "source": [
    "train_data.duplicated()"
   ]
  },
  {
   "cell_type": "code",
   "execution_count": 36,
   "metadata": {},
   "outputs": [
    {
     "data": {
      "text/plain": [
       "1952"
      ]
     },
     "execution_count": 36,
     "metadata": {},
     "output_type": "execute_result"
    }
   ],
   "source": [
    "len(train_data)"
   ]
  },
  {
   "cell_type": "code",
   "execution_count": 37,
   "metadata": {},
   "outputs": [
    {
     "data": {
      "text/plain": [
       "113"
      ]
     },
     "execution_count": 37,
     "metadata": {},
     "output_type": "execute_result"
    }
   ],
   "source": [
    "len(test_data)"
   ]
  },
  {
   "cell_type": "code",
   "execution_count": 38,
   "metadata": {},
   "outputs": [],
   "source": [
    "from sklearn.model_selection import train_test_split\n",
    "\n",
    "train_data, val_data = train_test_split(train_data, test_size = 0.2, random_state= 42)"
   ]
  },
  {
   "cell_type": "code",
   "execution_count": 39,
   "metadata": {},
   "outputs": [
    {
     "data": {
      "text/plain": [
       "1561"
      ]
     },
     "execution_count": 39,
     "metadata": {},
     "output_type": "execute_result"
    }
   ],
   "source": [
    "len(train_data)"
   ]
  },
  {
   "cell_type": "code",
   "execution_count": 40,
   "metadata": {},
   "outputs": [
    {
     "data": {
      "text/plain": [
       "391"
      ]
     },
     "execution_count": 40,
     "metadata": {},
     "output_type": "execute_result"
    }
   ],
   "source": [
    "len(val_data)"
   ]
  },
  {
   "cell_type": "markdown",
   "metadata": {},
   "source": [
    "## Molecular FingerPrint 생성"
   ]
  },
  {
   "cell_type": "code",
   "execution_count": 41,
   "metadata": {},
   "outputs": [],
   "source": [
    "from rdkit import Chem, DataStructs\n",
    "from rdkit.Chem import AllChem\n",
    "import numpy as np\n",
    "\n",
    "fps_train = []\n",
    "\n",
    "for idx, smiles in enumerate(train_data['Smiles']):\n",
    "    mol = Chem.MolFromSmiles(smiles)\n",
    "    arr = np.zeros((1,))\n",
    "    fp = AllChem.GetMorganFingerprintAsBitVect(mol, 2048)\n",
    "    DataStructs.ConvertToNumpyArray(fp, arr)\n",
    "\n",
    "    fps_train.append(arr)\n",
    "\n",
    "train_data[\"fp\"] = fps_train"
   ]
  },
  {
   "cell_type": "code",
   "execution_count": 42,
   "metadata": {},
   "outputs": [],
   "source": [
    "fps_val = []\n",
    "\n",
    "for idx, smiles in enumerate(val_data['Smiles']):\n",
    "    mol = Chem.MolFromSmiles(smiles)\n",
    "    arr = np.zeros((1,))\n",
    "    fp = AllChem.GetMorganFingerprintAsBitVect(mol, 2048)\n",
    "    DataStructs.ConvertToNumpyArray(fp, arr)\n",
    "\n",
    "    fps_val.append(arr)\n",
    "\n",
    "val_data[\"fp\"] = fps_val"
   ]
  },
  {
   "cell_type": "code",
   "execution_count": 43,
   "metadata": {},
   "outputs": [],
   "source": [
    "fps_test = []\n",
    "\n",
    "for idx, smiles in enumerate(test_data['Smiles']):\n",
    "    mol = Chem.MolFromSmiles(smiles)\n",
    "    arr = np.zeros((1,))\n",
    "    fp = AllChem.GetMorganFingerprintAsBitVect(mol, 2048)\n",
    "    DataStructs.ConvertToNumpyArray(fp, arr)\n",
    "\n",
    "    fps_test.append(arr)\n",
    "\n",
    "test_data[\"fp\"] = fps_test"
   ]
  },
  {
   "cell_type": "code",
   "execution_count": 44,
   "metadata": {},
   "outputs": [],
   "source": [
    "from torch.utils.data import Dataset\n",
    "\n",
    "class LipoDataset(Dataset):\n",
    "\n",
    "    def __init__(self, df):\n",
    "        self.x = list(df[\"fp\"])\n",
    "        self.y =list(df[\"IC50_nM\"].values)\n",
    "\n",
    "    def __len__(self):\n",
    "        return len(self.x)\n",
    "\n",
    "    def __getitem__(self, index):\n",
    "        return torch.tensor(self.x[index]).float(), torch.tensor(self.y[index]).float()"
   ]
  },
  {
   "cell_type": "code",
   "execution_count": 45,
   "metadata": {},
   "outputs": [],
   "source": [
    "lipodata = {\n",
    "    \"train\" : LipoDataset(train_data),\n",
    "    \"val\" : LipoDataset(val_data),\n",
    "}"
   ]
  },
  {
   "cell_type": "markdown",
   "metadata": {},
   "source": [
    "## MLP"
   ]
  },
  {
   "cell_type": "code",
   "execution_count": 46,
   "metadata": {},
   "outputs": [
    {
     "data": {
      "text/plain": [
       "MLP(\n",
       "  (linear1): Linear(in_features=2048, out_features=1024, bias=True)\n",
       "  (linear2): Linear(in_features=1024, out_features=256, bias=True)\n",
       "  (output): Linear(in_features=256, out_features=1, bias=True)\n",
       "  (dropout1): Dropout(p=0.5, inplace=False)\n",
       "  (relu): ReLU()\n",
       ")"
      ]
     },
     "execution_count": 46,
     "metadata": {},
     "output_type": "execute_result"
    }
   ],
   "source": [
    "import torch.nn as nn\n",
    "\n",
    "class MLP(nn.Module):\n",
    "    \n",
    "    def __init__(self):\n",
    "        super(MLP, self).__init__()\n",
    "        \n",
    "        self.linear1 = nn.Linear(2048, 1024) # 완전 연결된 단순 레이어 만들기 \n",
    "        self.linear2 = nn.Linear(1024, 256)\n",
    "        self.output = nn.Linear(256, 1) # 최종 예측을 위해 출력 부 크기 1로 설정 \n",
    "        self.dropout1 = nn.Dropout(0.5) #일반화를 위한 Dropout\n",
    "        self.relu = nn.ReLU()\n",
    "        \n",
    "    def forward(self, x):\n",
    "        out = self.linear1(x)\n",
    "        out = self.dropout1(out)\n",
    "        out = self.relu(out)\n",
    "        out = self.linear2(out)\n",
    "        out = self.dropout1(out)\n",
    "        out = self.relu(out)\n",
    "        out = self.output(out)\n",
    "        return out\n",
    "        \n",
    "model = MLP()\n",
    "model"
   ]
  },
  {
   "cell_type": "code",
   "execution_count": 47,
   "metadata": {},
   "outputs": [
    {
     "data": {
      "text/plain": [
       "{'train': <torch.utils.data.dataloader.DataLoader at 0x7fe2a639a130>,\n",
       " 'val': <torch.utils.data.dataloader.DataLoader at 0x7fe3aa0aacd0>}"
      ]
     },
     "execution_count": 47,
     "metadata": {},
     "output_type": "execute_result"
    }
   ],
   "source": [
    "from torch.utils.data import DataLoader\n",
    "\n",
    "dataloaders = {\n",
    "    \"train\": DataLoader(lipodata[\"train\"], batch_size=32, shuffle=True),\n",
    "    \"val\": DataLoader(lipodata[\"val\"], batch_size=32, shuffle=False)\n",
    "}\n",
    "\n",
    "dataloaders"
   ]
  },
  {
   "cell_type": "code",
   "execution_count": 48,
   "metadata": {},
   "outputs": [],
   "source": [
    "import torch\n",
    "import torch.nn as nn\n",
    "import torch.optim as optim\n",
    "\n",
    "# class RMSELoss(nn.Module):\n",
    "#     def __init__(self):\n",
    "#         super().__init__()\n",
    "#         self.mse = nn.MSELoss()\n",
    "        \n",
    "#     def forward(self, yhat, y):\n",
    "#         return torch.sqrt(self.mse(yhat, y))\n",
    "\n",
    "# loss_fn = RMSELoss()  # RMSE 손실 함수 사용\n",
    "loss_fn = torch.nn.MSELoss()\n",
    "optimizer = optim.Adam(model.parameters(), lr=0.005)\n",
    "\n",
    "# print(\"RMSE 손실 함수와 Adam 옵티마이저가 설정되었습니다.\")"
   ]
  },
  {
   "cell_type": "code",
   "execution_count": 49,
   "metadata": {},
   "outputs": [
    {
     "name": "stdout",
     "output_type": "stream",
     "text": [
      "[Epoch 0] Train Loss: 7408251.177  Validation Loss: 3666056.082\n",
      "[Epoch 10] Train Loss: 414344.177  Validation Loss: 4153951.611\n",
      "[Epoch 20] Train Loss: 339491.901  Validation Loss: 3922230.480\n",
      "[Epoch 30] Train Loss: 439165.457  Validation Loss: 4252741.948\n",
      "[Epoch 40] Train Loss: 276285.022  Validation Loss: 4063573.399\n",
      "[Epoch 50] Train Loss: 206083.718  Validation Loss: 3905116.696\n"
     ]
    }
   ],
   "source": [
    "import torch\n",
    "\n",
    "torch.manual_seed(42)\n",
    "\n",
    "epochs = 51\n",
    "train_losses = []\n",
    "val_losses = []\n",
    "\n",
    "\n",
    "for epoch in range(epochs):\n",
    "    model.train()\n",
    "    epoch_train_loss = 0.0\n",
    "    for i, data in enumerate(dataloaders[\"train\"]):\n",
    "        x, y = data[0], data[1]\n",
    "        optimizer.zero_grad()\n",
    "\n",
    "        outputs = model(x)\n",
    "        train_loss = loss_fn(outputs, y.view(-1, 1))\n",
    "        train_loss.backward()\n",
    "        optimizer.step()\n",
    "        \n",
    "        epoch_train_loss += train_loss.item()\n",
    "        \n",
    "    model.eval()\n",
    "    epoch_val_loss = 0.0\n",
    "    with torch.inference_mode():\n",
    "        for i, data in enumerate(dataloaders[\"val\"]):\n",
    "            x, y = data[0], data[1]\n",
    "                        \n",
    "            outputs = model(x)\n",
    "            val_loss = loss_fn(outputs, y.view(-1, 1))\n",
    "            epoch_val_loss += val_loss.item()\n",
    "            \n",
    "    epoch_train_loss /= len(dataloaders[\"train\"])\n",
    "    epoch_val_loss /= len(dataloaders[\"val\"])\n",
    "    train_losses.append(epoch_train_loss)\n",
    "    val_losses.append(epoch_val_loss)\n",
    "    \n",
    "    if epoch % 10 == 0:\n",
    "        print(\"[Epoch %d] Train Loss: %.3f  Validation Loss: %.3f\" %\n",
    "              (epoch, epoch_train_loss, epoch_val_loss))"
   ]
  },
  {
   "cell_type": "code",
   "execution_count": 50,
   "metadata": {},
   "outputs": [
    {
     "data": {
      "image/png": "[encoded data removed]",
      "text/plain": [
       "<Figure size 640x480 with 1 Axes>"
      ]
     },
     "metadata": {},
     "output_type": "display_data"
    }
   ],
   "source": [
    "import matplotlib.pyplot as plt\n",
    "\n",
    "epoch_count = range(epochs)\n",
    "plt.plot(epoch_count, train_losses, label=\"Train loss\")\n",
    "plt.plot(epoch_count, val_losses, label=\"Val loss\")\n",
    "plt.title(\"Training and val loss curves\")\n",
    "plt.ylabel(\"Loss\")\n",
    "plt.xlabel(\"Epochs\")\n",
    "plt.legend();"
   ]
  },
  {
   "cell_type": "markdown",
   "metadata": {},
   "source": [
    "## Test 예측"
   ]
  },
  {
   "cell_type": "code",
   "execution_count": 22,
   "metadata": {},
   "outputs": [],
   "source": [
    "import torch\n",
    "from torch.utils.data import Dataset, DataLoader\n",
    "\n",
    "# LipoDataset 클래스를 테스트 데이터용으로 수정\n",
    "class TestLipoDataset(Dataset):\n",
    "    def __init__(self, df):\n",
    "        self.x = list(df[\"fp\"])\n",
    "\n",
    "    def __len__(self):\n",
    "        return len(self.x)\n",
    "\n",
    "    def __getitem__(self, index):\n",
    "        return torch.tensor(self.x[index]).float()\n",
    "\n",
    "# 테스트 데이터셋 생성\n",
    "test_dataset = TestLipoDataset(test_data)\n",
    "test_dataloader = DataLoader(test_dataset, batch_size=32, shuffle=False)\n",
    "\n",
    "# 모델을 평가 모드로 설정\n",
    "model.eval()\n",
    "\n",
    "# 예측 결과를 저장할 리스트\n",
    "predictions = []\n",
    "\n",
    "# 예측 수행\n",
    "with torch.no_grad():\n",
    "    for batch in test_dataloader:\n",
    "        outputs = model(batch)\n",
    "        predictions.extend(outputs.numpy().flatten())\n",
    "\n",
    "# 예측 결과를 test_data에 추가\n",
    "test_data['Predicted_IC50_nM'] = predictions"
   ]
  },
  {
   "cell_type": "code",
   "execution_count": 23,
   "metadata": {},
   "outputs": [],
   "source": [
    "submission_data['IC50_nM'] = predictions"
   ]
  },
  {
   "cell_type": "code",
   "execution_count": 24,
   "metadata": {},
   "outputs": [],
   "source": [
    "submission_data.to_csv('./deepchem_submit_v2.csv', index=False)"
   ]
  },
  {
   "cell_type": "code",
   "execution_count": 27,
   "metadata": {},
   "outputs": [
    {
     "name": "stdout",
     "output_type": "stream",
     "text": [
      "Normalized RMSE: 0.0371\n",
      "Correct Ratio: 1.0000\n",
      "Final Score: 0.9815\n"
     ]
    }
   ],
   "source": [
    "import numpy as np\n",
    "\n",
    "def calculate_score(y_true, y_pred):\n",
    "    # IC50(nM) to pIC50 변환\n",
    "    def to_pIC50(IC50):\n",
    "        return -np.log10(IC50 * 1e-9)\n",
    "    \n",
    "    y_true_pIC50 = to_pIC50(y_true)\n",
    "    y_pred_pIC50 = to_pIC50(y_pred)\n",
    "    \n",
    "    # Normalized RMSE 계산\n",
    "    rmse = np.sqrt(np.mean((y_true - y_pred)**2))\n",
    "    normalized_rmse = rmse / (np.max(y_true) - np.min(y_true))\n",
    "    \n",
    "    # Correct Ratio 계산\n",
    "    absolute_errors_pIC50 = np.abs(y_true_pIC50 - y_pred_pIC50)\n",
    "    correct_ratio = np.mean(absolute_errors_pIC50 <= 0.5)\n",
    "    \n",
    "    # 최종 점수 계산\n",
    "    A = normalized_rmse\n",
    "    B = correct_ratio\n",
    "    score = 0.5 * (1 - min(A, 1)) + 0.5 * B\n",
    "    \n",
    "    return score, normalized_rmse, correct_ratio\n",
    "\n",
    "# 사용 예시\n",
    "y_true = np.array([100, 200, 300, 400, 500])  # 실제 IC50(nM) 값\n",
    "y_pred = np.array([110, 190, 280, 420, 510])  # 예측된 IC50(nM) 값\n",
    "\n",
    "final_score, normalized_rmse, correct_ratio = calculate_score(y_true, y_pred)\n",
    "\n",
    "print(f\"Normalized RMSE: {normalized_rmse:.4f}\")\n",
    "print(f\"Correct Ratio: {correct_ratio:.4f}\")\n",
    "print(f\"Final Score: {final_score:.4f}\")"
   ]
  },
  {
   "cell_type": "code",
   "execution_count": 51,
   "metadata": {},
   "outputs": [
    {
     "name": "stdout",
     "output_type": "stream",
     "text": [
      "Validation Results:\n",
      "Normalized RMSE: 0.0795\n",
      "Correct Ratio: 0.4834\n",
      "Final Score: 0.7019\n"
     ]
    },
    {
     "name": "stderr",
     "output_type": "stream",
     "text": [
      "/tmp/ipykernel_504296/3053946332.py:6: RuntimeWarning: invalid value encountered in log10\n",
      "  return -np.log10(IC50 * 1e-9)\n"
     ]
    },
    {
     "data": {
      "image/png": "[encoded data removed]",
      "text/plain": [
       "<Figure size 1000x600 with 1 Axes>"
      ]
     },
     "metadata": {},
     "output_type": "display_data"
    }
   ],
   "source": [
    "import torch\n",
    "import numpy as np\n",
    "from torch.utils.data import DataLoader\n",
    "\n",
    "# Validation 데이터에 대한 예측 및 점수 계산\n",
    "def evaluate_model(model, val_data, batch_size=32):\n",
    "    model.eval()  # 모델을 평가 모드로 설정\n",
    "    val_dataset = LipoDataset(val_data)\n",
    "    val_loader = DataLoader(val_dataset, batch_size=batch_size, shuffle=False)\n",
    "    \n",
    "    y_true = []\n",
    "    y_pred = []\n",
    "    \n",
    "    with torch.no_grad():\n",
    "        for inputs, targets in val_loader:\n",
    "            outputs = model(inputs)\n",
    "            y_true.extend(targets.numpy())\n",
    "            y_pred.extend(outputs.squeeze().numpy())\n",
    "    \n",
    "    y_true = np.array(y_true)\n",
    "    y_pred = np.array(y_pred)\n",
    "    \n",
    "    score, normalized_rmse, correct_ratio = calculate_score(y_true, y_pred)\n",
    "    \n",
    "    return score, normalized_rmse, correct_ratio, y_true, y_pred\n",
    "\n",
    "# 모델 평가 실행\n",
    "score, normalized_rmse, correct_ratio, y_true, y_pred = evaluate_model(model, val_data)\n",
    "\n",
    "print(f\"Validation Results:\")\n",
    "print(f\"Normalized RMSE: {normalized_rmse:.4f}\")\n",
    "print(f\"Correct Ratio: {correct_ratio:.4f}\")\n",
    "print(f\"Final Score: {score:.4f}\")\n",
    "\n",
    "# 추가적인 분석을 위한 scatter plot (선택사항)\n",
    "import matplotlib.pyplot as plt\n",
    "\n",
    "plt.figure(figsize=(10, 6))\n",
    "plt.scatter(y_true, y_pred, alpha=0.5)\n",
    "plt.plot([min(y_true), max(y_true)], [min(y_true), max(y_true)], 'r--', lw=2)\n",
    "plt.xlabel('True IC50 (nM)')\n",
    "plt.ylabel('Predicted IC50 (nM)')\n",
    "plt.title('True vs Predicted IC50 Values')\n",
    "plt.show()"
   ]
  },
  {
   "cell_type": "code",
   "execution_count": null,
   "metadata": {},
   "outputs": [],
   "source": []
  }
 ],
 "metadata": {
  "kernelspec": {
   "display_name": "ABSA",
   "language": "python",
   "name": "python3"
  },
  "language_info": {
   "codemirror_mode": {
    "name": "ipython",
    "version": 3
   },
   "file_extension": ".py",
   "mimetype": "text/x-python",
   "name": "python",
   "nbconvert_exporter": "python",
   "pygments_lexer": "ipython3",
   "version": "3.8.19"
  }
 },
 "nbformat": 4,
 "nbformat_minor": 2
}
